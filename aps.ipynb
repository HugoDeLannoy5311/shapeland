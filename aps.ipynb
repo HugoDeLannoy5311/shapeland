{
 "cells": [
  {
   "cell_type": "markdown",
   "metadata": {},
   "source": [
    "# Notebook Intentions\n",
    "\n",
    "The purpose of this notebook is to simulate an amusement park. \n"
   ]
  },
  {
   "cell_type": "code",
   "execution_count": 127,
   "metadata": {},
   "outputs": [],
   "source": [
    "from park import Park\n",
    "from behavior_reference import BEHAVIOR_ARCHETYPE_PARAMETERS\n",
    "from IPython.display import Image, display"
   ]
  },
  {
   "cell_type": "markdown",
   "metadata": {},
   "source": [
    "### Book Keeping\n",
    "\n",
    "    - Output Directory: dictates the location performance graphs are stored\n",
    "    - Verbosity: controls much information is displayed during a simulation, increase to show more info\n",
    "    - Show Plots: controls whether park plots are displayed in this notebook\n",
    "    - RNG Seed: seeds random number generators to enforce identical results across runs/machines\n",
    "    "
   ]
  },
  {
   "cell_type": "code",
   "execution_count": 128,
   "metadata": {},
   "outputs": [],
   "source": [
    "OUTPUTDIR = \"output\" \n",
    "# Note that if the output directory is named \"output\", it will match a line in the .gitignore,\n",
    "# which means the images aren't pushed to the remote.\n",
    "VERBOSITY = 0\n",
    "SHOW_PLOTS = ['Attraction Average Wait Times']\n",
    "RNG_SEED = 5\n"
   ]
  },
  {
   "cell_type": "markdown",
   "metadata": {},
   "source": [
    "## Park\n",
    " \n",
    "The park contains Agents, Attractions and Activities.\n",
    "\n",
    "- Total Daily Agents: dictates how many agents visit the park within a day\n",
    "- Hourly Percent: dictates what percentage of Total Daily Agents visits the park at each hour\n",
    "- Perfect Arrivals: enforces that the exact amount of Total Daily Agents arrives during the day\n",
    "- Expedited Pass Ability Percent: percent of agents aware of expeditied passes\n",
    "- Expedited Threshold: acceptable queue wait time length before searching for an expedited pass\n",
    "- Expedited Limit: total number of expedited pass an agent can hold at any given time\n"
   ]
  },
  {
   "cell_type": "code",
   "execution_count": 129,
   "metadata": {},
   "outputs": [],
   "source": [
    "TOTAL_DAILY_AGENTS = 20000\n",
    "PERFECT_ARRIVALS = True\n",
    "HOURLY_PERCENT = {\n",
    "    \"10:00 AM\": 10,\n",
    "    \"11:00 AM\": 20,\n",
    "    \"12:00 AM\": 17,\n",
    "    \"3:00 PM\": 20,\n",
    "    \"4:00 PM\": 15,\n",
    "    \"5:00 PM\": 10,\n",
    "    \"6:00 PM\": 1,\n",
    "    \"7:00 PM\": 5,\n",
    "    \"8:00 PM\": 1,\n",
    "    \"9:00 PM\": 1,\n",
    "    \"10:00 PM\": 0,\n",
    "    \"11:00 PM\": 0,\n",
    "    \"12:00 PM\": 0\n",
    "}\n",
    "EXP_ABILITY_PCT = 0.0\n",
    "EXP_THRESHOLD = 1\n",
    "EXP_LIMIT = 3"
   ]
  },
  {
   "cell_type": "markdown",
   "metadata": {},
   "source": [
    "## Agents\n",
    "\n",
    "The park is populated by agents. Agents visit attractions and activities. They make decisions about where to go based on their preferences, the popularity of attractions and activities and waiting times. Each Agent has a behavioral archetype.\n",
    "\n",
    "- Ride Enthusiast: wants to stay for a long time, go on as many attractions as possible, doesn't want to visit activites, doesn't mind waiting\n",
    "- Ride Favorer: wants to go on a lot of attractions, but will vists activites occasionally, will wait for a while in a queue\n",
    "- Park Tourer: wants to stay for a long time and wants to see attractions and activities equally, reasonable about wait times\n",
    "- Park Visitor: doesn't want to stay long and wants to see attractions and activities equally, inpatient about wait times\n",
    "- Activity Favorer: doesn't want to stay long and prefers activities, reasonable about wait times\n",
    "- Activity Enthusiast: wants to visit a lot of activities, reasonable about wait times\n",
    "\n",
    "Archetypes can be tweaked and new archetypes can be added in `behavior_reference.py`. \n",
    "\n",
    "- Agent Archetype Distribution: dictates the probability an agent will have a particular behavioral archetype\n"
   ]
  },
  {
   "cell_type": "code",
   "execution_count": 130,
   "metadata": {},
   "outputs": [],
   "source": [
    "AGENT_ARCHETYPE_DISTRIBUTION = {\n",
    "    \"ride_enthusiast\": 10,\n",
    "    \"ride_favorer\": 15,\n",
    "    \"park_tourer\": 25,\n",
    "    \"park_visitor\": 30,\n",
    "    \"activity_favorer\": 15,\n",
    "    \"activity_enthusiast\": 5,\n",
    "}\n"
   ]
  },
  {
   "cell_type": "markdown",
   "metadata": {},
   "source": [
    "## Attractions\n",
    "\n",
    "Attractions are essentially rides within a park. \n",
    "\n",
    "- Attractions: list of dictionaries that describe the attractions within the park\n",
    "    - Name: name of the attraction\n",
    "    - Run Time: How long the attraction take to run, in minutes\n",
    "    - Capacity: Maximium number of agents that can be on the attraction during a run\n",
    "    - Popularity: Value from 1-10 that describes how popular an attraction is with respect to other attractions\n",
    "    - Expedited Queue: Dictates whether the attraction has an expedited queue or not\n",
    "    - Expedited Queue Ratio: Dictates what percentage of attraction capacity is devoted to members of the expedited queue\n",
    "    - Child Eligible: Dictates whether children can ride the attraction\n",
    "    - Adult Eligible: Dictates whether adults can ride the attraction"
   ]
  },
  {
   "cell_type": "code",
   "execution_count": 131,
   "metadata": {},
   "outputs": [],
   "source": [
    "ATTRACTIONS = [\n",
    "    {\n",
    "        \"name\": \"Alpha\",\n",
    "        \"run_time\": 10,\n",
    "        \"hourly_throughput\": 3000,\n",
    "        \"popularity\": 10,\n",
    "        \"expedited_queue\": True,\n",
    "        \"expedited_queue_ratio\": 0.8,\n",
    "        \"child_eligible\": True,\n",
    "        \"adult_eligible\": True,\n",
    "    },\n",
    "    {\n",
    "        \"name\": \"Beta\",\n",
    "        \"run_time\": 5,\n",
    "        \"hourly_throughput\": 2400,\n",
    "        \"popularity\": 9,\n",
    "        \"expedited_queue\": True,\n",
    "        \"expedited_queue_ratio\": 0.8,\n",
    "        \"child_eligible\": True,\n",
    "        \"adult_eligible\": True,\n",
    "    },\n",
    "    {\n",
    "        \"name\": \"Gamma\",\n",
    "        \"run_time\": 15,\n",
    "        \"hourly_throughput\": 2000,\n",
    "        \"popularity\": 8,\n",
    "        \"expedited_queue\": True,\n",
    "        \"expedited_queue_ratio\": 0.8,\n",
    "        \"child_eligible\": True,\n",
    "        \"adult_eligible\": True,\n",
    "    },\n",
    "    {\n",
    "        \"name\": \"Delta\",\n",
    "        \"run_time\": 5,\n",
    "        \"hourly_throughput\": 1200,\n",
    "        \"popularity\": 7,\n",
    "        \"expedited_queue\": True,\n",
    "        \"expedited_queue_ratio\": 0.8,\n",
    "        \"child_eligible\": True,\n",
    "        \"adult_eligible\": False,\n",
    "    },\n",
    "    {\n",
    "        \"name\": \"Epsilon\",\n",
    "        \"run_time\": 10,\n",
    "        \"hourly_throughput\": 2000,\n",
    "        \"popularity\": 6,\n",
    "        \"expedited_queue\": True,\n",
    "        \"expedited_queue_ratio\": 0.8,\n",
    "        \"child_eligible\": False,\n",
    "        \"adult_eligible\": True,\n",
    "    },\n",
    "    {\n",
    "        \"name\": \"Zeta\",\n",
    "        \"run_time\": 6,\n",
    "        \"hourly_throughput\": 2000,\n",
    "        \"popularity\": 5,\n",
    "        \"expedited_queue\": True,\n",
    "        \"expedited_queue_ratio\": 0.8,\n",
    "        \"child_eligible\": True,\n",
    "        \"adult_eligible\": False,\n",
    "    },\n",
    "    {\n",
    "        \"name\": \"Eta\",\n",
    "        \"run_time\": 12,\n",
    "        \"hourly_throughput\": 2400,\n",
    "        \"popularity\": 4,\n",
    "        \"expedited_queue\": True,\n",
    "        \"expedited_queue_ratio\": 0.8,\n",
    "        \"child_eligible\": False,\n",
    "        \"adult_eligible\": True,\n",
    "    }\n",
    "]"
   ]
  },
  {
   "cell_type": "markdown",
   "metadata": {},
   "source": [
    "## Activities\n",
    "Activities are everything to do within the park that isn't an attraction. \n",
    "\n",
    "- Activities: list of dictionaries that describe activities within the park\n",
    "    - Name: name of the activity\n",
    "    - Popularity: Value from 1-10 that describes how popular an activity is with respect to other activities\n",
    "    - Mean Time: The expected time agents will spend at an activity"
   ]
  },
  {
   "cell_type": "code",
   "execution_count": 132,
   "metadata": {},
   "outputs": [],
   "source": [
    "ACTIVITIES = [\n",
    "    {\n",
    "      \"name\": \"sightseeing\",\n",
    "      \"popularity\": 5,\n",
    "      \"mean_time\": 5\n",
    "    },\n",
    "    {\n",
    "      \"name\": \"show\",\n",
    "      \"popularity\": 5,\n",
    "      \"mean_time\": 30\n",
    "    },\n",
    "    {\n",
    "      \"name\": \"merchandise\",\n",
    "      \"popularity\": 5,\n",
    "      \"mean_time\": 30\n",
    "    },\n",
    "    {\n",
    "      \"name\": \"food\",\n",
    "      \"popularity\": 5,\n",
    "      \"mean_time\": 45\n",
    "    }\n",
    "  ]"
   ]
  },
  {
   "cell_type": "markdown",
   "metadata": {},
   "source": [
    "## Plots\n",
    "\n",
    "Set the Y limit of plots"
   ]
  },
  {
   "cell_type": "code",
   "execution_count": 133,
   "metadata": {},
   "outputs": [],
   "source": [
    "PLOT_RANGE = {\n",
    "    \"Attraction Queue Length\": 1800,\n",
    "    \"Attraction Wait Time\": 200,\n",
    "    \"Attraction Expedited Queue Length\": 6000,\n",
    "    \"Attraction Expedited Wait Time\": 500,\n",
    "    \"Activity Vistors\": 20000,\n",
    "    \"Approximate Agent Distribution (General)\": 1.0,\n",
    "    \"Approximate Agent Distribution (Specific)\": 1.0,\n",
    "    \"Attraction Average Wait Times\": 120,\n",
    "    \"Agent Attractions Histogram\": 1.0,\n",
    "    \"Attraction Total Visits\": 46000,\n",
    "    \"Expedited Pass Distribution\": 150000,\n",
    "    \"Age Class Distribution\": 20000,\n",
    "}"
   ]
  },
  {
   "cell_type": "markdown",
   "metadata": {},
   "source": [
    "## Simulation\n",
    "\n",
    "Run the simulation here."
   ]
  },
  {
   "cell_type": "code",
   "execution_count": 134,
   "metadata": {
    "scrolled": false
   },
   "outputs": [],
   "source": [
    "%%capture\n",
    "\n",
    "# Initialize Park\n",
    "RNG_SEED = 5\n",
    "\n",
    "park = Park(\n",
    "    attraction_list=ATTRACTIONS,\n",
    "    activity_list=ACTIVITIES,\n",
    "    plot_range=PLOT_RANGE,\n",
    "    random_seed=RNG_SEED,\n",
    "    version=OUTPUTDIR,\n",
    "    verbosity=VERBOSITY\n",
    ")\n",
    "\n",
    "# Build Arrivals\n",
    "\n",
    "park.generate_arrival_schedule(\n",
    "    arrival_seed=HOURLY_PERCENT, \n",
    "    total_daily_agents=TOTAL_DAILY_AGENTS, \n",
    "    perfect_arrivals=PERFECT_ARRIVALS,\n",
    ")\n",
    "\n",
    "# Build Agents\n",
    "park.generate_agents(\n",
    "    behavior_archetype_distribution=AGENT_ARCHETYPE_DISTRIBUTION,\n",
    "    exp_ability_pct=EXP_ABILITY_PCT,\n",
    "    exp_wait_threshold=EXP_THRESHOLD,\n",
    "    exp_limit=EXP_LIMIT\n",
    ")\n",
    "\n",
    "# Build Attractions + Activities\n",
    "park.generate_attractions()\n",
    "park.generate_activities()\n",
    "\n",
    "# Pass Time\n",
    "for _ in range(len(HOURLY_PERCENT.keys()) * 60):\n",
    "    park.step()\n",
    "\n",
    "# Save Parameters of Current Run\n",
    "sim_parameters = {\n",
    "    \"VERSION\": OUTPUTDIR,\n",
    "    \"VERBOSITY\": VERBOSITY,\n",
    "    \"SHOW_PLOTS\": SHOW_PLOTS,\n",
    "    \"RNG_SEED\": RNG_SEED,\n",
    "    \"TOTAL_DAILY_AGENTS\": TOTAL_DAILY_AGENTS,\n",
    "    \"PERFECT_ARRIVALS\": PERFECT_ARRIVALS,\n",
    "    \"HOURLY_PERCENT\": HOURLY_PERCENT,\n",
    "    \"EXP_ABILITY_PCT\": EXP_ABILITY_PCT,\n",
    "    \"EXP_THRESHOLD\": EXP_THRESHOLD,\n",
    "    \"EXP_LIMIT\": EXP_LIMIT,\n",
    "    \"AGENT_ARCHETYPE_DISTRIBUTION\": AGENT_ARCHETYPE_DISTRIBUTION,\n",
    "    \"ATTRACTIONS\": ATTRACTIONS,\n",
    "    \"ACTIVITIES\": ACTIVITIES,\n",
    "    \"BEHAVIOR_ARCHETYPE_PARAMETERS\": BEHAVIOR_ARCHETYPE_PARAMETERS,\n",
    "}\n",
    "park.write_data_to_file(\n",
    "    data=sim_parameters, \n",
    "    output_file_path=f\"{OUTPUTDIR}/parameters\", \n",
    "    output_file_format=\"json\"\n",
    ")\n",
    "\n",
    "# Store + Print Data\n",
    "park.make_plots()\n",
    "park.print_logs(N = 5)\n",
    "#park.print_logs(selected_agent_ids = [778])"
   ]
  },
  {
   "cell_type": "code",
   "execution_count": 135,
   "metadata": {},
   "outputs": [
    {
     "data": {
      "image/png": "[encoded data removed]",
      "text/plain": [
       "<IPython.core.display.Image object>"
      ]
     },
     "metadata": {},
     "output_type": "display_data"
    }
   ],
   "source": [
    "for imageName in SHOW_PLOTS:\n",
    "    display(Image(filename=OUTPUTDIR+'/'+imageName+'.png'))"
   ]
  }
 ],
 "metadata": {
  "kernelspec": {
   "display_name": "Python 3",
   "language": "python",
   "name": "python3"
  },
  "language_info": {
   "codemirror_mode": {
    "name": "ipython",
    "version": 3
   },
   "file_extension": ".py",
   "mimetype": "text/x-python",
   "name": "python",
   "nbconvert_exporter": "python",
   "pygments_lexer": "ipython3",
   "version": "3.12.0"
  }
 },
 "nbformat": 4,
 "nbformat_minor": 5
}
